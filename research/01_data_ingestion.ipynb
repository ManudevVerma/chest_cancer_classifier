{
 "cells": [
  {
   "metadata": {
    "ExecuteTime": {
     "end_time": "2025-10-10T19:09:03.000985Z",
     "start_time": "2025-10-10T19:09:02.982372Z"
    }
   },
   "cell_type": "code",
   "source": "import os",
   "id": "446310f43b145268",
   "outputs": [],
   "execution_count": 80
  },
  {
   "metadata": {
    "ExecuteTime": {
     "end_time": "2025-10-10T19:09:04.099582Z",
     "start_time": "2025-10-10T19:09:04.078608Z"
    }
   },
   "cell_type": "code",
   "source": "%pwd",
   "id": "abb4f1cd7cdff24c",
   "outputs": [
    {
     "data": {
      "text/plain": [
       "'C:\\\\Users\\\\manud\\\\Machine_learning_projects\\\\Chest Cancer Detection using DL and MLflow'"
      ]
     },
     "execution_count": 81,
     "metadata": {},
     "output_type": "execute_result"
    }
   ],
   "execution_count": 81
  },
  {
   "metadata": {
    "ExecuteTime": {
     "end_time": "2025-10-09T11:19:49.567190Z",
     "start_time": "2025-10-09T11:19:49.562372Z"
    }
   },
   "cell_type": "code",
   "source": "os.chdir(\"../\")",
   "id": "91575b5a853b9dea",
   "outputs": [],
   "execution_count": 65
  },
  {
   "metadata": {
    "ExecuteTime": {
     "end_time": "2025-10-09T11:19:50.530569Z",
     "start_time": "2025-10-09T11:19:50.519632Z"
    }
   },
   "cell_type": "code",
   "source": "%pwd",
   "id": "73d19070b9a8b43b",
   "outputs": [
    {
     "data": {
      "text/plain": [
       "'C:\\\\Users\\\\manud\\\\Machine_learning_projects\\\\Chest Cancer Detection using DL and MLflow'"
      ]
     },
     "execution_count": 66,
     "metadata": {},
     "output_type": "execute_result"
    }
   ],
   "execution_count": 66
  },
  {
   "metadata": {
    "ExecuteTime": {
     "end_time": "2025-10-09T11:19:51.985381Z",
     "start_time": "2025-10-09T11:19:51.981138Z"
    }
   },
   "cell_type": "code",
   "source": [
    "import sys\n",
    "from pathlib import Path\n",
    "\n",
    "# add the src directory to sys.path\n",
    "root = Path.cwd()\n",
    "src_path = root / \"src\"\n",
    "if str(src_path) not in sys.path:\n",
    "    sys.path.append(str(src_path))"
   ],
   "id": "3b0b0906c32b44ee",
   "outputs": [],
   "execution_count": 67
  },
  {
   "metadata": {
    "ExecuteTime": {
     "end_time": "2025-10-09T11:19:53.526955Z",
     "start_time": "2025-10-09T11:19:53.522444Z"
    }
   },
   "cell_type": "code",
   "source": [
    "from dataclasses import dataclass\n",
    "from pathlib import Path\n",
    "\n",
    "@dataclass(frozen=True)\n",
    "class DataIngestionConfig:\n",
    "    root_dir: Path\n",
    "    source_URL: str\n",
    "    local_data_file: Path\n",
    "    unzip_dir: Path"
   ],
   "id": "8b135dcd3185c54f",
   "outputs": [],
   "execution_count": 68
  },
  {
   "metadata": {
    "ExecuteTime": {
     "end_time": "2025-10-09T11:28:18.627408Z",
     "start_time": "2025-10-09T11:28:18.620889Z"
    }
   },
   "cell_type": "code",
   "source": [
    "#from cnnClassifier.constants import CONFIG_FILE_PATH, PARAMS_FILE_PATH\n",
    "from cnnClassifier.utils.common import read_yaml, create_directories\n",
    "\n",
    "class ConfigurationManager:\n",
    "    def __init__(\n",
    "        self,\n",
    "        config_filepath = Path('C:/Users/manud/Machine_learning_projects/Chest Cancer Detection using DL and MLflow/chest_cancer_classifier/config/config.yaml'),\n",
    "        params_filepath = Path(\"C:/Users\\manud\\Machine_learning_projects\\Chest Cancer Detection using DL and MLflow\\chest_cancer_classifier\\params.yaml\")):\n",
    "\n",
    "        self.config = read_yaml(config_filepath)\n",
    "        self.params = read_yaml(params_filepath)\n",
    "\n",
    "        create_directories([self.config.artifacts_root])\n",
    "\n",
    "\n",
    "\n",
    "    def get_data_ingestion_config(self) -> DataIngestionConfig:\n",
    "        config = self.config.data_ingestion\n",
    "\n",
    "        create_directories([config.root_dir])\n",
    "\n",
    "        data_ingestion_config = DataIngestionConfig(\n",
    "            root_dir=config.root_dir,\n",
    "            source_URL=config.source_URL,\n",
    "            local_data_file=config.local_data_file,\n",
    "            unzip_dir=config.unzip_dir\n",
    "        )\n",
    "\n",
    "        return data_ingestion_config"
   ],
   "id": "fe1d129b5b5449a",
   "outputs": [],
   "execution_count": 78
  },
  {
   "metadata": {
    "ExecuteTime": {
     "end_time": "2025-10-09T11:19:57.247962Z",
     "start_time": "2025-10-09T11:19:57.244708Z"
    }
   },
   "cell_type": "code",
   "source": [
    "import os\n",
    "import zipfile\n",
    "import gdown\n",
    "from cnnClassifier import logger\n",
    "from cnnClassifier.utils.common import get_size"
   ],
   "id": "608521e7378394e8",
   "outputs": [],
   "execution_count": 70
  },
  {
   "metadata": {
    "ExecuteTime": {
     "end_time": "2025-10-09T11:20:01.989854Z",
     "start_time": "2025-10-09T11:20:01.982154Z"
    }
   },
   "cell_type": "code",
   "source": [
    "#Now create data_ingestion_component\n",
    "\n",
    "class DataIngestion:\n",
    "    def __init__(self, config: DataIngestionConfig):\n",
    "        self.config = config\n",
    "\n",
    "    def download_file(self)-> str:\n",
    "        '''\n",
    "        Fetch data from the url\n",
    "        '''\n",
    "\n",
    "        try:\n",
    "            dataset_url = self.config.source_URL\n",
    "            zip_download_dir = self.config.local_data_file\n",
    "            os.makedirs(\"artifacts/data_ingestion\", exist_ok=True)\n",
    "            logger.info(f\"Downloading data from {dataset_url} into file {zip_download_dir}\")\n",
    "\n",
    "            file_id = dataset_url.split(\"/\")[-2]\n",
    "            prefix = 'https://drive.google.com/uc?/export=download&id='\n",
    "            gdown.download(prefix+file_id,zip_download_dir)\n",
    "\n",
    "            logger.info(f\"Downloaded data from {dataset_url} into file {zip_download_dir}\")\n",
    "\n",
    "        except Exception as e:\n",
    "            raise e\n",
    "\n",
    "\n",
    "    def extract_zip_file(self):\n",
    "        \"\"\"\n",
    "        zip_file_path: str\n",
    "        Extracts the zip file into the data directory\n",
    "        Function returns None\n",
    "        \"\"\"\n",
    "        unzip_path = self.config.unzip_dir\n",
    "        os.makedirs(unzip_path, exist_ok=True)\n",
    "        with zipfile.ZipFile(self.config.local_data_file, 'r') as zip_ref:\n",
    "            zip_ref.extractall(unzip_path)"
   ],
   "id": "511f96c93e792f27",
   "outputs": [],
   "execution_count": 71
  },
  {
   "metadata": {
    "ExecuteTime": {
     "end_time": "2025-10-09T11:31:52.547969Z",
     "start_time": "2025-10-09T11:28:22.621165Z"
    }
   },
   "cell_type": "code",
   "source": [
    "#now we are creating a pipeline to download and extract the zip file from drive with error handling\n",
    "try:\n",
    "    config = ConfigurationManager()\n",
    "    data_ingestion_config = config.get_data_ingestion_config()\n",
    "    data_ingestion = DataIngestion(config=data_ingestion_config)\n",
    "    data_ingestion.download_file()\n",
    "    data_ingestion.extract_zip_file()\n",
    "except Exception as e:\n",
    "    raise e"
   ],
   "id": "af3e93f2837dd95f",
   "outputs": [
    {
     "name": "stdout",
     "output_type": "stream",
     "text": [
      "[2025-10-09 16:58:22,625: INFO: common: yaml file: C:\\Users\\manud\\Machine_learning_projects\\Chest Cancer Detection using DL and MLflow\\chest_cancer_classifier\\config\\config.yaml loaded successfully]\n",
      "[2025-10-09 16:58:22,625: INFO: common: yaml file: C:\\Users\\manud\\Machine_learning_projects\\Chest Cancer Detection using DL and MLflow\\chest_cancer_classifier\\params.yaml loaded successfully]\n",
      "[2025-10-09 16:58:22,629: INFO: common: created directory at: artifacts]\n",
      "[2025-10-09 16:58:22,629: INFO: common: created directory at: artifacts/data_ingestion]\n",
      "[2025-10-09 16:58:22,632: INFO: 1518154814: Downloading data from https://drive.google.com/file/d/1n8q3JyWlv5uBwZMVqOIUiqe2X-pv1bMw/view?usp=drive_link into file artifacts/data_ingestion/data.zip]\n"
     ]
    },
    {
     "name": "stderr",
     "output_type": "stream",
     "text": [
      "Downloading...\n",
      "From (original): https://drive.google.com/uc?/export=download&id=1n8q3JyWlv5uBwZMVqOIUiqe2X-pv1bMw\n",
      "From (redirected): https://drive.google.com/uc?%2Fexport=download&id=1n8q3JyWlv5uBwZMVqOIUiqe2X-pv1bMw&confirm=t&uuid=c41700f1-043b-45e9-93bd-ec7952011790\n",
      "To: C:\\Users\\manud\\Machine_learning_projects\\Chest Cancer Detection using DL and MLflow\\artifacts\\data_ingestion\\data.zip\n",
      "100%|██████████| 208M/208M [03:22<00:00, 1.03MB/s] "
     ]
    },
    {
     "name": "stdout",
     "output_type": "stream",
     "text": [
      "[2025-10-09 17:01:50,161: INFO: 1518154814: Downloaded data from https://drive.google.com/file/d/1n8q3JyWlv5uBwZMVqOIUiqe2X-pv1bMw/view?usp=drive_link into file artifacts/data_ingestion/data.zip]\n"
     ]
    },
    {
     "name": "stderr",
     "output_type": "stream",
     "text": [
      "\n"
     ]
    }
   ],
   "execution_count": 79
  }
 ],
 "metadata": {
  "kernelspec": {
   "display_name": "Python 3",
   "language": "python",
   "name": "python3"
  },
  "language_info": {
   "codemirror_mode": {
    "name": "ipython",
    "version": 2
   },
   "file_extension": ".py",
   "mimetype": "text/x-python",
   "name": "python",
   "nbconvert_exporter": "python",
   "pygments_lexer": "ipython2",
   "version": "2.7.6"
  }
 },
 "nbformat": 4,
 "nbformat_minor": 5
}
