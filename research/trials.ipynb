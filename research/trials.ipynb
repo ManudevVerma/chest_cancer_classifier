{
 "cells": [
  {
   "metadata": {
    "ExecuteTime": {
     "end_time": "2025-09-29T17:10:01.143299Z",
     "start_time": "2025-09-29T17:10:01.135109Z"
    }
   },
   "cell_type": "code",
   "source": "d1 = {'key': 'value', 'key1': 'value1'}",
   "id": "56fb7651064741f0",
   "outputs": [],
   "execution_count": 1
  },
  {
   "metadata": {
    "ExecuteTime": {
     "end_time": "2025-09-29T17:10:22.303569Z",
     "start_time": "2025-09-29T17:10:22.298269Z"
    }
   },
   "cell_type": "code",
   "source": "d1['key']",
   "id": "9b92a754d48bfb5d",
   "outputs": [
    {
     "data": {
      "text/plain": [
       "'value'"
      ]
     },
     "execution_count": 3,
     "metadata": {},
     "output_type": "execute_result"
    }
   ],
   "execution_count": 3
  },
  {
   "metadata": {
    "ExecuteTime": {
     "end_time": "2025-09-29T17:10:59.395355Z",
     "start_time": "2025-09-29T17:10:59.003605Z"
    }
   },
   "cell_type": "code",
   "source": "d1.key",
   "id": "afc670160af1db85",
   "outputs": [
    {
     "ename": "AttributeError",
     "evalue": "'dict' object has no attribute 'key'",
     "output_type": "error",
     "traceback": [
      "\u001B[31m---------------------------------------------------------------------------\u001B[39m",
      "\u001B[31mAttributeError\u001B[39m                            Traceback (most recent call last)",
      "\u001B[36mCell\u001B[39m\u001B[36m \u001B[39m\u001B[32mIn[4]\u001B[39m\u001B[32m, line 1\u001B[39m\n\u001B[32m----> \u001B[39m\u001B[32m1\u001B[39m \u001B[43md1\u001B[49m\u001B[43m.\u001B[49m\u001B[43mkey\u001B[49m\n",
      "\u001B[31mAttributeError\u001B[39m: 'dict' object has no attribute 'key'"
     ]
    }
   ],
   "execution_count": 4
  },
  {
   "metadata": {
    "ExecuteTime": {
     "end_time": "2025-09-29T17:11:48.689112Z",
     "start_time": "2025-09-29T17:11:48.685109Z"
    }
   },
   "cell_type": "code",
   "source": [
    "from box import ConfigBox\n",
    "\n",
    "d2 = ConfigBox(d1)"
   ],
   "id": "3acdc2e4d25419c2",
   "outputs": [],
   "execution_count": 6
  },
  {
   "metadata": {
    "ExecuteTime": {
     "end_time": "2025-09-29T17:12:14.261462Z",
     "start_time": "2025-09-29T17:12:13.937232Z"
    }
   },
   "cell_type": "code",
   "source": "d2.key2",
   "id": "243093716d10f70c",
   "outputs": [
    {
     "ename": "BoxKeyError",
     "evalue": "\"'ConfigBox' object has no attribute 'key2'\"",
     "output_type": "error",
     "traceback": [
      "\u001B[31m---------------------------------------------------------------------------\u001B[39m",
      "\u001B[31mKeyError\u001B[39m                                  Traceback (most recent call last)",
      "\u001B[36mFile \u001B[39m\u001B[32m~\\anaconda3\\envs\\cancer\\Lib\\site-packages\\box\\box.py:503\u001B[39m, in \u001B[36mBox.__getitem__\u001B[39m\u001B[34m(self, item, _ignore_default)\u001B[39m\n\u001B[32m    502\u001B[39m \u001B[38;5;28;01mtry\u001B[39;00m:\n\u001B[32m--> \u001B[39m\u001B[32m503\u001B[39m     \u001B[38;5;28;01mreturn\u001B[39;00m \u001B[38;5;28;43msuper\u001B[39;49m\u001B[43m(\u001B[49m\u001B[43m)\u001B[49m\u001B[43m.\u001B[49m\u001B[34;43m__getitem__\u001B[39;49m\u001B[43m(\u001B[49m\u001B[43mitem\u001B[49m\u001B[43m)\u001B[49m\n\u001B[32m    504\u001B[39m \u001B[38;5;28;01mexcept\u001B[39;00m \u001B[38;5;167;01mKeyError\u001B[39;00m \u001B[38;5;28;01mas\u001B[39;00m err:\n",
      "\u001B[31mKeyError\u001B[39m: 'key2'",
      "\nThe above exception was the direct cause of the following exception:\n",
      "\u001B[31mBoxKeyError\u001B[39m                               Traceback (most recent call last)",
      "\u001B[36mFile \u001B[39m\u001B[32m~\\anaconda3\\envs\\cancer\\Lib\\site-packages\\box\\box.py:536\u001B[39m, in \u001B[36mBox.__getattr__\u001B[39m\u001B[34m(self, item)\u001B[39m\n\u001B[32m    535\u001B[39m \u001B[38;5;28;01mtry\u001B[39;00m:\n\u001B[32m--> \u001B[39m\u001B[32m536\u001B[39m     value = \u001B[38;5;28;43mself\u001B[39;49m\u001B[43m.\u001B[49m\u001B[34;43m__getitem__\u001B[39;49m\u001B[43m(\u001B[49m\u001B[43mitem\u001B[49m\u001B[43m,\u001B[49m\u001B[43m \u001B[49m\u001B[43m_ignore_default\u001B[49m\u001B[43m=\u001B[49m\u001B[38;5;28;43;01mTrue\u001B[39;49;00m\u001B[43m)\u001B[49m\n\u001B[32m    537\u001B[39m \u001B[38;5;28;01mexcept\u001B[39;00m \u001B[38;5;167;01mKeyError\u001B[39;00m:\n",
      "\u001B[36mFile \u001B[39m\u001B[32m~\\anaconda3\\envs\\cancer\\Lib\\site-packages\\box\\box.py:524\u001B[39m, in \u001B[36mBox.__getitem__\u001B[39m\u001B[34m(self, item, _ignore_default)\u001B[39m\n\u001B[32m    523\u001B[39m         \u001B[38;5;28;01mreturn\u001B[39;00m \u001B[38;5;28mself\u001B[39m.__get_default(item)\n\u001B[32m--> \u001B[39m\u001B[32m524\u001B[39m     \u001B[38;5;28;01mraise\u001B[39;00m BoxKeyError(\u001B[38;5;28mstr\u001B[39m(err)) \u001B[38;5;28;01mfrom\u001B[39;00m\u001B[38;5;250m \u001B[39m\u001B[34;01m_exception_cause\u001B[39;00m(err)\n\u001B[32m    525\u001B[39m \u001B[38;5;28;01mexcept\u001B[39;00m \u001B[38;5;167;01mTypeError\u001B[39;00m \u001B[38;5;28;01mas\u001B[39;00m err:\n",
      "\u001B[31mBoxKeyError\u001B[39m: \"'key2'\"",
      "\nDuring handling of the above exception, another exception occurred:\n",
      "\u001B[31mAttributeError\u001B[39m                            Traceback (most recent call last)",
      "\u001B[36mFile \u001B[39m\u001B[32m~\\anaconda3\\envs\\cancer\\Lib\\site-packages\\box\\box.py:538\u001B[39m, in \u001B[36mBox.__getattr__\u001B[39m\u001B[34m(self, item)\u001B[39m\n\u001B[32m    537\u001B[39m     \u001B[38;5;28;01mexcept\u001B[39;00m \u001B[38;5;167;01mKeyError\u001B[39;00m:\n\u001B[32m--> \u001B[39m\u001B[32m538\u001B[39m         value = \u001B[38;5;28;43mobject\u001B[39;49m\u001B[43m.\u001B[49m\u001B[34;43m__getattribute__\u001B[39;49m\u001B[43m(\u001B[49m\u001B[38;5;28;43mself\u001B[39;49m\u001B[43m,\u001B[49m\u001B[43m \u001B[49m\u001B[43mitem\u001B[49m\u001B[43m)\u001B[49m\n\u001B[32m    539\u001B[39m \u001B[38;5;28;01mexcept\u001B[39;00m \u001B[38;5;167;01mAttributeError\u001B[39;00m \u001B[38;5;28;01mas\u001B[39;00m err:\n",
      "\u001B[31mAttributeError\u001B[39m: 'ConfigBox' object has no attribute 'key2'",
      "\nThe above exception was the direct cause of the following exception:\n",
      "\u001B[31mBoxKeyError\u001B[39m                               Traceback (most recent call last)",
      "\u001B[36mFile \u001B[39m\u001B[32m~\\anaconda3\\envs\\cancer\\Lib\\site-packages\\box\\config_box.py:28\u001B[39m, in \u001B[36mConfigBox.__getattr__\u001B[39m\u001B[34m(self, item)\u001B[39m\n\u001B[32m     27\u001B[39m \u001B[38;5;28;01mtry\u001B[39;00m:\n\u001B[32m---> \u001B[39m\u001B[32m28\u001B[39m     \u001B[38;5;28;01mreturn\u001B[39;00m \u001B[38;5;28;43msuper\u001B[39;49m\u001B[43m(\u001B[49m\u001B[43m)\u001B[49m\u001B[43m.\u001B[49m\u001B[34;43m__getattr__\u001B[39;49m\u001B[43m(\u001B[49m\u001B[43mitem\u001B[49m\u001B[43m)\u001B[49m\n\u001B[32m     29\u001B[39m \u001B[38;5;28;01mexcept\u001B[39;00m \u001B[38;5;167;01mAttributeError\u001B[39;00m:\n",
      "\u001B[36mFile \u001B[39m\u001B[32m~\\anaconda3\\envs\\cancer\\Lib\\site-packages\\box\\box.py:552\u001B[39m, in \u001B[36mBox.__getattr__\u001B[39m\u001B[34m(self, item)\u001B[39m\n\u001B[32m    551\u001B[39m         \u001B[38;5;28;01mreturn\u001B[39;00m \u001B[38;5;28mself\u001B[39m.__get_default(item, attr=\u001B[38;5;28;01mTrue\u001B[39;00m)\n\u001B[32m--> \u001B[39m\u001B[32m552\u001B[39m     \u001B[38;5;28;01mraise\u001B[39;00m BoxKeyError(\u001B[38;5;28mstr\u001B[39m(err)) \u001B[38;5;28;01mfrom\u001B[39;00m\u001B[38;5;250m \u001B[39m\u001B[34;01m_exception_cause\u001B[39;00m(err)\n\u001B[32m    553\u001B[39m \u001B[38;5;28;01mreturn\u001B[39;00m value\n",
      "\u001B[31mBoxKeyError\u001B[39m: \"'ConfigBox' object has no attribute 'key2'\"",
      "\nDuring handling of the above exception, another exception occurred:\n",
      "\u001B[31mKeyError\u001B[39m                                  Traceback (most recent call last)",
      "\u001B[36mFile \u001B[39m\u001B[32m~\\anaconda3\\envs\\cancer\\Lib\\site-packages\\box\\box.py:503\u001B[39m, in \u001B[36mBox.__getitem__\u001B[39m\u001B[34m(self, item, _ignore_default)\u001B[39m\n\u001B[32m    502\u001B[39m \u001B[38;5;28;01mtry\u001B[39;00m:\n\u001B[32m--> \u001B[39m\u001B[32m503\u001B[39m     \u001B[38;5;28;01mreturn\u001B[39;00m \u001B[38;5;28;43msuper\u001B[39;49m\u001B[43m(\u001B[49m\u001B[43m)\u001B[49m\u001B[43m.\u001B[49m\u001B[34;43m__getitem__\u001B[39;49m\u001B[43m(\u001B[49m\u001B[43mitem\u001B[49m\u001B[43m)\u001B[49m\n\u001B[32m    504\u001B[39m \u001B[38;5;28;01mexcept\u001B[39;00m \u001B[38;5;167;01mKeyError\u001B[39;00m \u001B[38;5;28;01mas\u001B[39;00m err:\n",
      "\u001B[31mKeyError\u001B[39m: 'key2'",
      "\nThe above exception was the direct cause of the following exception:\n",
      "\u001B[31mBoxKeyError\u001B[39m                               Traceback (most recent call last)",
      "\u001B[36mFile \u001B[39m\u001B[32m~\\anaconda3\\envs\\cancer\\Lib\\site-packages\\box\\box.py:536\u001B[39m, in \u001B[36mBox.__getattr__\u001B[39m\u001B[34m(self, item)\u001B[39m\n\u001B[32m    535\u001B[39m \u001B[38;5;28;01mtry\u001B[39;00m:\n\u001B[32m--> \u001B[39m\u001B[32m536\u001B[39m     value = \u001B[38;5;28;43mself\u001B[39;49m\u001B[43m.\u001B[49m\u001B[34;43m__getitem__\u001B[39;49m\u001B[43m(\u001B[49m\u001B[43mitem\u001B[49m\u001B[43m,\u001B[49m\u001B[43m \u001B[49m\u001B[43m_ignore_default\u001B[49m\u001B[43m=\u001B[49m\u001B[38;5;28;43;01mTrue\u001B[39;49;00m\u001B[43m)\u001B[49m\n\u001B[32m    537\u001B[39m \u001B[38;5;28;01mexcept\u001B[39;00m \u001B[38;5;167;01mKeyError\u001B[39;00m:\n",
      "\u001B[36mFile \u001B[39m\u001B[32m~\\anaconda3\\envs\\cancer\\Lib\\site-packages\\box\\box.py:524\u001B[39m, in \u001B[36mBox.__getitem__\u001B[39m\u001B[34m(self, item, _ignore_default)\u001B[39m\n\u001B[32m    523\u001B[39m         \u001B[38;5;28;01mreturn\u001B[39;00m \u001B[38;5;28mself\u001B[39m.__get_default(item)\n\u001B[32m--> \u001B[39m\u001B[32m524\u001B[39m     \u001B[38;5;28;01mraise\u001B[39;00m BoxKeyError(\u001B[38;5;28mstr\u001B[39m(err)) \u001B[38;5;28;01mfrom\u001B[39;00m\u001B[38;5;250m \u001B[39m\u001B[34;01m_exception_cause\u001B[39;00m(err)\n\u001B[32m    525\u001B[39m \u001B[38;5;28;01mexcept\u001B[39;00m \u001B[38;5;167;01mTypeError\u001B[39;00m \u001B[38;5;28;01mas\u001B[39;00m err:\n",
      "\u001B[31mBoxKeyError\u001B[39m: \"'key2'\"",
      "\nDuring handling of the above exception, another exception occurred:\n",
      "\u001B[31mAttributeError\u001B[39m                            Traceback (most recent call last)",
      "\u001B[36mFile \u001B[39m\u001B[32m~\\anaconda3\\envs\\cancer\\Lib\\site-packages\\box\\box.py:538\u001B[39m, in \u001B[36mBox.__getattr__\u001B[39m\u001B[34m(self, item)\u001B[39m\n\u001B[32m    537\u001B[39m     \u001B[38;5;28;01mexcept\u001B[39;00m \u001B[38;5;167;01mKeyError\u001B[39;00m:\n\u001B[32m--> \u001B[39m\u001B[32m538\u001B[39m         value = \u001B[38;5;28;43mobject\u001B[39;49m\u001B[43m.\u001B[49m\u001B[34;43m__getattribute__\u001B[39;49m\u001B[43m(\u001B[49m\u001B[38;5;28;43mself\u001B[39;49m\u001B[43m,\u001B[49m\u001B[43m \u001B[49m\u001B[43mitem\u001B[49m\u001B[43m)\u001B[49m\n\u001B[32m    539\u001B[39m \u001B[38;5;28;01mexcept\u001B[39;00m \u001B[38;5;167;01mAttributeError\u001B[39;00m \u001B[38;5;28;01mas\u001B[39;00m err:\n",
      "\u001B[31mAttributeError\u001B[39m: 'ConfigBox' object has no attribute 'key2'",
      "\nThe above exception was the direct cause of the following exception:\n",
      "\u001B[31mBoxKeyError\u001B[39m                               Traceback (most recent call last)",
      "\u001B[36mCell\u001B[39m\u001B[36m \u001B[39m\u001B[32mIn[9]\u001B[39m\u001B[32m, line 1\u001B[39m\n\u001B[32m----> \u001B[39m\u001B[32m1\u001B[39m \u001B[43md2\u001B[49m\u001B[43m.\u001B[49m\u001B[43mkey2\u001B[49m\n",
      "\u001B[36mFile \u001B[39m\u001B[32m~\\anaconda3\\envs\\cancer\\Lib\\site-packages\\box\\config_box.py:30\u001B[39m, in \u001B[36mConfigBox.__getattr__\u001B[39m\u001B[34m(self, item)\u001B[39m\n\u001B[32m     28\u001B[39m     \u001B[38;5;28;01mreturn\u001B[39;00m \u001B[38;5;28msuper\u001B[39m().\u001B[34m__getattr__\u001B[39m(item)\n\u001B[32m     29\u001B[39m \u001B[38;5;28;01mexcept\u001B[39;00m \u001B[38;5;167;01mAttributeError\u001B[39;00m:\n\u001B[32m---> \u001B[39m\u001B[32m30\u001B[39m     \u001B[38;5;28;01mreturn\u001B[39;00m \u001B[38;5;28;43msuper\u001B[39;49m\u001B[43m(\u001B[49m\u001B[43m)\u001B[49m\u001B[43m.\u001B[49m\u001B[34;43m__getattr__\u001B[39;49m\u001B[43m(\u001B[49m\u001B[43mitem\u001B[49m\u001B[43m.\u001B[49m\u001B[43mlower\u001B[49m\u001B[43m(\u001B[49m\u001B[43m)\u001B[49m\u001B[43m)\u001B[49m\n",
      "\u001B[36mFile \u001B[39m\u001B[32m~\\anaconda3\\envs\\cancer\\Lib\\site-packages\\box\\box.py:552\u001B[39m, in \u001B[36mBox.__getattr__\u001B[39m\u001B[34m(self, item)\u001B[39m\n\u001B[32m    550\u001B[39m             \u001B[38;5;28;01mraise\u001B[39;00m BoxKeyError(\u001B[33mf\u001B[39m\u001B[33m\"\u001B[39m\u001B[38;5;132;01m{\u001B[39;00mitem\u001B[38;5;132;01m}\u001B[39;00m\u001B[33m: Does not exist and internal methods are never defaulted\u001B[39m\u001B[33m\"\u001B[39m)\n\u001B[32m    551\u001B[39m         \u001B[38;5;28;01mreturn\u001B[39;00m \u001B[38;5;28mself\u001B[39m.__get_default(item, attr=\u001B[38;5;28;01mTrue\u001B[39;00m)\n\u001B[32m--> \u001B[39m\u001B[32m552\u001B[39m     \u001B[38;5;28;01mraise\u001B[39;00m BoxKeyError(\u001B[38;5;28mstr\u001B[39m(err)) \u001B[38;5;28;01mfrom\u001B[39;00m\u001B[38;5;250m \u001B[39m\u001B[34;01m_exception_cause\u001B[39;00m(err)\n\u001B[32m    553\u001B[39m \u001B[38;5;28;01mreturn\u001B[39;00m value\n",
      "\u001B[31mBoxKeyError\u001B[39m: \"'ConfigBox' object has no attribute 'key2'\""
     ]
    }
   ],
   "execution_count": 9
  },
  {
   "metadata": {
    "ExecuteTime": {
     "end_time": "2025-09-29T17:16:29.097297Z",
     "start_time": "2025-09-29T17:16:29.091266Z"
    }
   },
   "cell_type": "code",
   "source": [
    "def getProduct(a:int ,b:int) -> int:\n",
    "    return a*b"
   ],
   "id": "cf75849ec51f6d7",
   "outputs": [],
   "execution_count": 10
  },
  {
   "metadata": {
    "ExecuteTime": {
     "end_time": "2025-09-29T17:17:38.973477Z",
     "start_time": "2025-09-29T17:17:38.969610Z"
    }
   },
   "cell_type": "code",
   "source": "getProduct(2,'5342')",
   "id": "9e00f7e245e33559",
   "outputs": [
    {
     "data": {
      "text/plain": [
       "'53425342'"
      ]
     },
     "execution_count": 12,
     "metadata": {},
     "output_type": "execute_result"
    }
   ],
   "execution_count": 12
  },
  {
   "metadata": {
    "ExecuteTime": {
     "end_time": "2025-09-29T17:19:29.618178Z",
     "start_time": "2025-09-29T17:19:29.614910Z"
    }
   },
   "cell_type": "code",
   "source": [
    "from ensure import ensure_annotations\n",
    "\n",
    "@ensure_annotations\n",
    "def getProduct(a:float ,b:int) -> float:\n",
    "    return a*b"
   ],
   "id": "c6b972330fddd8cb",
   "outputs": [],
   "execution_count": 19
  },
  {
   "metadata": {
    "ExecuteTime": {
     "end_time": "2025-09-29T17:19:39.331342Z",
     "start_time": "2025-09-29T17:19:39.326464Z"
    }
   },
   "cell_type": "code",
   "source": "getProduct(3.0,9)",
   "id": "21149b19af0dfa66",
   "outputs": [
    {
     "data": {
      "text/plain": [
       "27.0"
      ]
     },
     "execution_count": 20,
     "metadata": {},
     "output_type": "execute_result"
    }
   ],
   "execution_count": 20
  }
 ],
 "metadata": {
  "kernelspec": {
   "name": "python3",
   "language": "python",
   "display_name": "Python 3 (ipykernel)"
  }
 },
 "nbformat": 4,
 "nbformat_minor": 5
}
